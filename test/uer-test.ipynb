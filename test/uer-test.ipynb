{
 "cells": [
  {
   "cell_type": "code",
   "execution_count": 30,
   "metadata": {},
   "outputs": [
    {
     "name": "stdout",
     "output_type": "stream",
     "text": [
      "deque([], maxlen=10)\n",
      "deque([[0, 1], [2, 3], [4, 5], [6, 7], [8, 9], [10, 11], [12, 13], [14, 15], [16, 17], [18, 19]], maxlen=10)\n",
      "deque([[2, 3], [4, 5], [6, 7], [8, 9], [10, 11], [12, 13], [14, 15], [16, 17], [18, 19], [20, 21]], maxlen=10)\n",
      "[[18 19]\n",
      " [ 6  7]\n",
      " [ 8  9]\n",
      " [12 13]]\n"
     ]
    }
   ],
   "source": [
    "# 统一经验回放测试\n",
    "import numpy as np\n",
    "from sionna_sensing.uniform_experience_replay import UER\n",
    "\n",
    "a = UER(10)\n",
    "print(a.memory)\n",
    "for i in range(0,20,2):\n",
    "    a.remember([i,i+1])\n",
    "print(a.memory)\n",
    "a.remember([20,21])\n",
    "print(a.memory)\n",
    "b = a.sample(4)\n",
    "print(np.array(b))"
   ]
  },
  {
   "cell_type": "code",
   "execution_count": 37,
   "metadata": {},
   "outputs": [
    {
     "name": "stdout",
     "output_type": "stream",
     "text": [
      "deque([(array([[0, 1],\n",
      "       [2, 3],\n",
      "       [4, 5]]), 6, 7, array([[ 8,  9],\n",
      "       [10, 11],\n",
      "       [12, 13]]), [False, False, False])], maxlen=10)\n",
      "1\n"
     ]
    }
   ],
   "source": [
    "c = UER(10)\n",
    "state = np.array([[0,1],[2,3],[4,5]])\n",
    "actions = 6\n",
    "reward = 7\n",
    "state_ = np.array([[8,9],[10,11],[12,13]])\n",
    "done = [False]*3\n",
    "c.remember([state, actions, reward, state_, done])\n",
    "print(c.memory)\n",
    "print(len(c.memory))"
   ]
  }
 ],
 "metadata": {
  "kernelspec": {
   "display_name": "lhp",
   "language": "python",
   "name": "python3"
  },
  "language_info": {
   "codemirror_mode": {
    "name": "ipython",
    "version": 3
   },
   "file_extension": ".py",
   "mimetype": "text/x-python",
   "name": "python",
   "nbconvert_exporter": "python",
   "pygments_lexer": "ipython3",
   "version": "3.11.9"
  }
 },
 "nbformat": 4,
 "nbformat_minor": 2
}
