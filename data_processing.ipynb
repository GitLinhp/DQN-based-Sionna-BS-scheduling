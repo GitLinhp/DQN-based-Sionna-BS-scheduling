{
 "cells": [
  {
   "cell_type": "code",
   "execution_count": 1,
   "metadata": {},
   "outputs": [],
   "source": [
    "import numpy as np"
   ]
  },
  {
   "cell_type": "code",
   "execution_count": 19,
   "metadata": {},
   "outputs": [
    {
     "name": "stdout",
     "output_type": "stream",
     "text": [
      "98.44%\n",
      "Everage correct action rate of last 50 episodes:94.64%\n"
     ]
    }
   ],
   "source": [
    "path = './DL_workspace/one_way_street/models/dqn-0530/correct action rate.txt'\n",
    "correct_action_rate = np.loadtxt(path)\n",
    "print(f'{np.max(correct_action_rate)*100:.2f}%')\n",
    "print(f\"Everage correct action rate of last 50 episodes:{np.mean(correct_action_rate[-50:])*100:.2f}%\")"
   ]
  },
  {
   "cell_type": "code",
   "execution_count": 20,
   "metadata": {},
   "outputs": [
    {
     "name": "stdout",
     "output_type": "stream",
     "text": [
      "99.22%\n",
      "Everage correct action rate of last 50 episodes:94.69%\n"
     ]
    }
   ],
   "source": [
    "path = './DL_workspace/one_way_street/models/dqn-0530-z_score2/correct action rate.txt'\n",
    "correct_action_rate = np.loadtxt(path)\n",
    "print(f'{np.max(correct_action_rate)*100:.2f}%')\n",
    "print(f\"Everage correct action rate of last 50 episodes:{np.mean(correct_action_rate[-50:])*100:.2f}%\")"
   ]
  }
 ],
 "metadata": {
  "kernelspec": {
   "display_name": "base",
   "language": "python",
   "name": "python3"
  },
  "language_info": {
   "codemirror_mode": {
    "name": "ipython",
    "version": 3
   },
   "file_extension": ".py",
   "mimetype": "text/x-python",
   "name": "python",
   "nbconvert_exporter": "python",
   "pygments_lexer": "ipython3",
   "version": "3.8.10"
  }
 },
 "nbformat": 4,
 "nbformat_minor": 2
}
