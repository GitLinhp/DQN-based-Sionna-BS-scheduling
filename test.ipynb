{
 "cells": [
  {
   "cell_type": "code",
   "execution_count": 3,
   "metadata": {},
   "outputs": [
    {
     "name": "stdout",
     "output_type": "stream",
     "text": [
      "    reward\n",
      "0        0\n",
      "1        2\n",
      "2        4\n",
      "3        6\n",
      "4        8\n",
      "5       10\n",
      "6       12\n",
      "7       14\n",
      "8       16\n",
      "9       18\n",
      "10      20\n",
      "11      22\n",
      "12      24\n",
      "13      26\n",
      "14      28\n",
      "15      30\n",
      "16      32\n",
      "17      34\n",
      "18      36\n",
      "19      38\n",
      "20      40\n",
      "21      42\n",
      "22      44\n",
      "23      46\n",
      "24      48\n",
      "25      50\n",
      "26      52\n",
      "27      54\n",
      "28      56\n",
      "29      58\n"
     ]
    }
   ],
   "source": [
    "import pandas as pd\n",
    "\n",
    "datas = []\n",
    "for i in range(30):\n",
    "    data = i*2\n",
    "    datas.append(data)\n",
    "\n",
    "# print(datas)\n",
    "\n",
    "df = pd.DataFrame(datas,columns=['reward'])\n",
    "\n",
    "print(df)\n"
   ]
  },
  {
   "cell_type": "code",
   "execution_count": 4,
   "metadata": {},
   "outputs": [],
   "source": [
    "from sionna_sensing.config.config_load import config_load\n",
    "\n",
    "_,_ = config_load('./sionna_sensing/config/config test.json')"
   ]
  },
  {
   "cell_type": "code",
   "execution_count": 6,
   "metadata": {},
   "outputs": [
    {
     "data": {
      "text/plain": [
       "<tensorflow.python.keras.optimizer_v2.rmsprop.RMSprop at 0x7133c6395850>"
      ]
     },
     "execution_count": 6,
     "metadata": {},
     "output_type": "execute_result"
    }
   ],
   "source": [
    "from tensorflow.python.keras.optimizer_v2.adam import Adam\n",
    "from tensorflow.python.keras.optimizer_v2.rmsprop import RMSprop\n",
    "Adam(lr=0.01, clipnorm=1.)\n",
    "RMSprop(lr=0.01)"
   ]
  },
  {
   "cell_type": "code",
   "execution_count": 20,
   "metadata": {},
   "outputs": [
    {
     "name": "stdout",
     "output_type": "stream",
     "text": [
      "[0 1 0 1 0 1 0]\n",
      "[0.    0.789 0.    0.836 0.    0.749 0.   ]\n",
      "0.836\n",
      "[1 0 0 0 0 0 1]\n",
      "[-0.148 -0.    -0.     0.    -0.     0.    -1.   ]\n",
      "0.0\n",
      "[0 0 0 0 1 0 0]\n",
      "[ 0.    -0.    -0.    -0.    -0.055 -0.    -0.   ]\n",
      "-0.0\n",
      "reward:0.2786666666666667\n"
     ]
    }
   ],
   "source": [
    "import numpy as np\n",
    "target_num = 3\n",
    "c = np.array([[ 0.739, 0.789, 0.786, 0.836, 0.782, 0.749, 0.752],\n",
    "              [-0.148,-0.263,-0.061, 1.   ,-1.   , 0.283,-1.   ],\n",
    "              [ 0.545,-1.   ,-0.291,-1.   ,-0.055,-1.   ,-0.09 ]])\n",
    "actions = np.array([1, 0, -1, 0, 2, 0, 1])\n",
    "reward = 0\n",
    "for idx in range(target_num):\n",
    "    mask = np.where(actions==idx, 1, 0)\n",
    "    tmp = c[idx,:] * mask\n",
    "    print(mask)\n",
    "    print(tmp)\n",
    "    print(np.max(tmp))\n",
    "    reward += np.max(tmp)\n",
    "reward /= target_num\n",
    "print(f'reward:{reward}')\n"
   ]
  },
  {
   "cell_type": "code",
   "execution_count": null,
   "metadata": {},
   "outputs": [],
   "source": []
  }
 ],
 "metadata": {
  "kernelspec": {
   "display_name": "Python 3 (ipykernel)",
   "language": "python",
   "name": "python3"
  },
  "language_info": {
   "codemirror_mode": {
    "name": "ipython",
    "version": 3
   },
   "file_extension": ".py",
   "mimetype": "text/x-python",
   "name": "python",
   "nbconvert_exporter": "python",
   "pygments_lexer": "ipython3",
   "version": "3.11.9"
  }
 },
 "nbformat": 4,
 "nbformat_minor": 4
}
